{
  "nbformat": 4,
  "nbformat_minor": 0,
  "metadata": {
    "colab": {
      "provenance": []
    },
    "kernelspec": {
      "name": "python3",
      "display_name": "Python 3"
    },
    "language_info": {
      "name": "python"
    }
  },
  "cells": [
    {
      "cell_type": "code",
      "execution_count": 28,
      "metadata": {
        "colab": {
          "base_uri": "https://localhost:8080/"
        },
        "id": "02OzA_HSXLwU",
        "outputId": "84143151-6b80-4911-9226-e363dcb9c313"
      },
      "outputs": [
        {
          "output_type": "stream",
          "name": "stdout",
          "text": [
            "[1 2 3]\n"
          ]
        }
      ],
      "source": [
        "import numpy as np\n",
        "\n",
        "arr1=np.array([1,2,3])\n",
        "print(arr1)"
      ]
    },
    {
      "cell_type": "code",
      "source": [
        "print(type(arr1))"
      ],
      "metadata": {
        "colab": {
          "base_uri": "https://localhost:8080/"
        },
        "id": "scVH6n98ZPhe",
        "outputId": "818a173f-bb34-4408-8965-72095bd2aaa1"
      },
      "execution_count": 29,
      "outputs": [
        {
          "output_type": "stream",
          "name": "stdout",
          "text": [
            "<class 'numpy.ndarray'>\n"
          ]
        }
      ]
    },
    {
      "cell_type": "markdown",
      "source": [
        "means 1D array"
      ],
      "metadata": {
        "id": "-1roGJxGZeu-"
      }
    },
    {
      "cell_type": "code",
      "source": [
        "print(arr1.shape)#3 cols"
      ],
      "metadata": {
        "colab": {
          "base_uri": "https://localhost:8080/"
        },
        "id": "xFTLVMLqZWw2",
        "outputId": "4be9a092-a422-4dfd-c240-ced1e1886a42"
      },
      "execution_count": 30,
      "outputs": [
        {
          "output_type": "stream",
          "name": "stdout",
          "text": [
            "(3,)\n"
          ]
        }
      ]
    },
    {
      "cell_type": "code",
      "source": [
        "print(arr1[2])"
      ],
      "metadata": {
        "id": "hgkKB5hZZyRH",
        "colab": {
          "base_uri": "https://localhost:8080/"
        },
        "outputId": "0f2ab3ac-4840-4306-8fd2-9d303eefc874"
      },
      "execution_count": 10,
      "outputs": [
        {
          "output_type": "stream",
          "name": "stdout",
          "text": [
            "3\n"
          ]
        }
      ]
    },
    {
      "cell_type": "code",
      "source": [
        "arr1[2]=5\n",
        "arr1 #prints array elements"
      ],
      "metadata": {
        "colab": {
          "base_uri": "https://localhost:8080/"
        },
        "id": "mB3_iE2RPT7p",
        "outputId": "ab8fd990-5365-498f-ca26-4c6a5d3a9293"
      },
      "execution_count": 11,
      "outputs": [
        {
          "output_type": "execute_result",
          "data": {
            "text/plain": [
              "array([1, 2, 5])"
            ]
          },
          "metadata": {},
          "execution_count": 11
        }
      ]
    },
    {
      "cell_type": "code",
      "source": [
        "arr2 = np.array([[1,2,3],[4,5,6]])\n",
        "arr2"
      ],
      "metadata": {
        "colab": {
          "base_uri": "https://localhost:8080/"
        },
        "id": "JLCbAv_xPfB_",
        "outputId": "22ac7be6-8c82-4ed5-a774-0f808333f97c"
      },
      "execution_count": 13,
      "outputs": [
        {
          "output_type": "execute_result",
          "data": {
            "text/plain": [
              "array([[1, 2, 3],\n",
              "       [4, 5, 6]])"
            ]
          },
          "metadata": {},
          "execution_count": 13
        }
      ]
    },
    {
      "cell_type": "code",
      "source": [
        "print(arr2.shape)#2 rows 3 columns"
      ],
      "metadata": {
        "colab": {
          "base_uri": "https://localhost:8080/"
        },
        "id": "HsnE8gfDP5ER",
        "outputId": "d152e15f-72b4-4139-bf57-3ceea63e4bc2"
      },
      "execution_count": 14,
      "outputs": [
        {
          "output_type": "stream",
          "name": "stdout",
          "text": [
            "(2, 3)\n"
          ]
        }
      ]
    },
    {
      "cell_type": "code",
      "source": [
        "arr2[0,2] #accessing element at 0th row and 2 column"
      ],
      "metadata": {
        "colab": {
          "base_uri": "https://localhost:8080/"
        },
        "id": "CeSGD30IQnnb",
        "outputId": "dbb2c9d1-48db-41af-8e74-f9118b0263ad"
      },
      "execution_count": 17,
      "outputs": [
        {
          "output_type": "execute_result",
          "data": {
            "text/plain": [
              "3"
            ]
          },
          "metadata": {},
          "execution_count": 17
        }
      ]
    },
    {
      "cell_type": "code",
      "source": [
        "arr2[0][-1] #we can address in reverse too like -1,-2,-3"
      ],
      "metadata": {
        "colab": {
          "base_uri": "https://localhost:8080/"
        },
        "id": "EpKEt_GdRHte",
        "outputId": "5dee97ce-172e-45dd-f876-6cd57fc85af2"
      },
      "execution_count": 22,
      "outputs": [
        {
          "output_type": "execute_result",
          "data": {
            "text/plain": [
              "3"
            ]
          },
          "metadata": {},
          "execution_count": 22
        }
      ]
    },
    {
      "cell_type": "code",
      "source": [
        "arr=[\"China\",\"Pakistan\",\"USA\",\"Mexico\"]\n",
        "arr"
      ],
      "metadata": {
        "colab": {
          "base_uri": "https://localhost:8080/"
        },
        "id": "h76IBQxoSHRb",
        "outputId": "0eaa6d2a-1f0d-4e6b-e733-70218b690c21"
      },
      "execution_count": 26,
      "outputs": [
        {
          "output_type": "execute_result",
          "data": {
            "text/plain": [
              "['China', 'Pakistan', 'USA', 'Mexico']"
            ]
          },
          "metadata": {},
          "execution_count": 26
        }
      ]
    },
    {
      "cell_type": "code",
      "source": [
        "arrR=np.arange(0,20,2)#0 2 4 ... 18 (20 not included counts upto 20)\n",
        "arrR"
      ],
      "metadata": {
        "colab": {
          "base_uri": "https://localhost:8080/"
        },
        "id": "QgPFLZfDSipc",
        "outputId": "d7d8cbee-1837-44d6-9067-fad825fa5aae"
      },
      "execution_count": 32,
      "outputs": [
        {
          "output_type": "execute_result",
          "data": {
            "text/plain": [
              "array([ 0,  2,  4,  6,  8, 10, 12, 14, 16, 18])"
            ]
          },
          "metadata": {},
          "execution_count": 32
        }
      ]
    },
    {
      "cell_type": "code",
      "source": [
        "arr=np.random.rand(3,4)\n",
        "arr"
      ],
      "metadata": {
        "colab": {
          "base_uri": "https://localhost:8080/"
        },
        "id": "_onxNhrFUSrR",
        "outputId": "c308aa06-53d9-4b60-895f-78c96f76a71c"
      },
      "execution_count": 35,
      "outputs": [
        {
          "output_type": "execute_result",
          "data": {
            "text/plain": [
              "array([[0.88623725, 0.66865936, 0.2912587 , 0.00281343],\n",
              "       [0.79001723, 0.89910895, 0.38072337, 0.33475995],\n",
              "       [0.63221217, 0.17440176, 0.90216123, 0.11360874]])"
            ]
          },
          "metadata": {},
          "execution_count": 35
        }
      ]
    },
    {
      "cell_type": "code",
      "source": [
        "print(np.zeros(10))#10 rows in a row\n",
        "print(\"\\n\")\n",
        "print(np.zeros((2,3)))#zeros in 2 rows 3 cols"
      ],
      "metadata": {
        "colab": {
          "base_uri": "https://localhost:8080/"
        },
        "collapsed": true,
        "id": "rGwFpPJLVMK8",
        "outputId": "33ff02de-a018-44ef-e225-8b2fc988e62d"
      },
      "execution_count": 37,
      "outputs": [
        {
          "output_type": "stream",
          "name": "stdout",
          "text": [
            "[0. 0. 0. 0. 0. 0. 0. 0. 0. 0.]\n",
            "\n",
            "\n",
            "[[0. 0. 0.]\n",
            " [0. 0. 0.]]\n"
          ]
        }
      ]
    },
    {
      "cell_type": "code",
      "source": [
        "print(np.ones(10))#same as above but for 1s"
      ],
      "metadata": {
        "colab": {
          "base_uri": "https://localhost:8080/"
        },
        "id": "UBy-MTN7XhQw",
        "outputId": "4b066dda-10cc-4f76-8d6e-0479a0626a18"
      },
      "execution_count": 38,
      "outputs": [
        {
          "output_type": "stream",
          "name": "stdout",
          "text": [
            "[1. 1. 1. 1. 1. 1. 1. 1. 1. 1.]\n"
          ]
        }
      ]
    },
    {
      "cell_type": "code",
      "source": [
        "arr=[6,2,3]\n",
        "print(np.repeat(arr,3))#repitition of arr 3 times"
      ],
      "metadata": {
        "colab": {
          "base_uri": "https://localhost:8080/"
        },
        "id": "FsyTwpacXpUV",
        "outputId": "36c08b48-9ffa-4ec3-d713-cb2d653947a8"
      },
      "execution_count": 40,
      "outputs": [
        {
          "output_type": "stream",
          "name": "stdout",
          "text": [
            "[6 6 6 2 2 2 3 3 3]\n"
          ]
        }
      ]
    },
    {
      "cell_type": "code",
      "source": [
        "#generating a 6 2 3 pattern using tile then repeating it thrice\n",
        "print(np.tile(arr,3))"
      ],
      "metadata": {
        "colab": {
          "base_uri": "https://localhost:8080/"
        },
        "id": "MJntO39HYA7r",
        "outputId": "3a48aa29-c310-4563-c53d-4d4f90e5d5e6"
      },
      "execution_count": 43,
      "outputs": [
        {
          "output_type": "stream",
          "name": "stdout",
          "text": [
            "[6 2 3 6 2 3 6 2 3]\n"
          ]
        }
      ]
    },
    {
      "cell_type": "code",
      "source": [
        "#3x3 identity matrix in 2 ways\n",
        "# identity_matrix = np.identity(3)\n",
        "id=np.eye(3)\n",
        "# identity_matrix\n",
        "id"
      ],
      "metadata": {
        "colab": {
          "base_uri": "https://localhost:8080/"
        },
        "id": "kbhaLbg0YlNx",
        "outputId": "2cdf952d-818e-43bf-f3fb-fc8d393bfb6a"
      },
      "execution_count": 45,
      "outputs": [
        {
          "output_type": "execute_result",
          "data": {
            "text/plain": [
              "array([[1., 0., 0.],\n",
              "       [0., 1., 0.],\n",
              "       [0., 0., 1.]])"
            ]
          },
          "metadata": {},
          "execution_count": 45
        }
      ]
    },
    {
      "cell_type": "code",
      "source": [
        "# prompt: generate a matrix having diagonal 1 2 3\n",
        "# diagonal_elements = [1, 2, 3]\n",
        "# size = len(diagonal_elements)\n",
        "# matrix = np.zeros((size, size), dtype=int)  # Initialize a matrix of zeros\n",
        "\n",
        "# for i in range(size):\n",
        "#   matrix[i, i] = diagonal_elements[i]\n",
        "\n",
        "# matrix\n",
        "\n",
        "np.diag([1,2,3]) #SAME WORK AS ABOVE CODE"
      ],
      "metadata": {
        "colab": {
          "base_uri": "https://localhost:8080/"
        },
        "id": "Ty8F7ZwpY5V7",
        "outputId": "30955a5f-b4c8-4224-f966-6136bfa95d88"
      },
      "execution_count": 48,
      "outputs": [
        {
          "output_type": "execute_result",
          "data": {
            "text/plain": [
              "array([[1, 0, 0],\n",
              "       [0, 2, 0],\n",
              "       [0, 0, 3]])"
            ]
          },
          "metadata": {},
          "execution_count": 48
        }
      ]
    },
    {
      "cell_type": "code",
      "source": [
        "arr=np.random.rand(5,5)\n",
        "arr"
      ],
      "metadata": {
        "colab": {
          "base_uri": "https://localhost:8080/"
        },
        "id": "Ry2NEqCMeSn6",
        "outputId": "1d0be067-4cf6-4971-8851-5cd9912ce41d"
      },
      "execution_count": 49,
      "outputs": [
        {
          "output_type": "execute_result",
          "data": {
            "text/plain": [
              "array([[0.35820293, 0.84213269, 0.81891561, 0.69878061, 0.66345575],\n",
              "       [0.97347717, 0.45432185, 0.2347597 , 0.71784758, 0.03023978],\n",
              "       [0.51234942, 0.62386924, 0.16273396, 0.05208801, 0.46792003],\n",
              "       [0.81963803, 0.80364048, 0.97858111, 0.90395297, 0.32278301],\n",
              "       [0.03287447, 0.55011576, 0.56517123, 0.03178637, 0.77459376]])"
            ]
          },
          "metadata": {},
          "execution_count": 49
        }
      ]
    },
    {
      "cell_type": "code",
      "source": [
        "#identifyng diag\n",
        "# arr.diagonal()\n",
        "np.diag(arr) #same as above"
      ],
      "metadata": {
        "colab": {
          "base_uri": "https://localhost:8080/"
        },
        "id": "Gya5ahLrfHx7",
        "outputId": "e3632430-3b0c-47c2-af67-f8514c6da993"
      },
      "execution_count": 51,
      "outputs": [
        {
          "output_type": "execute_result",
          "data": {
            "text/plain": [
              "array([0.35820293, 0.45432185, 0.16273396, 0.90395297, 0.77459376])"
            ]
          },
          "metadata": {},
          "execution_count": 51
        }
      ]
    },
    {
      "cell_type": "code",
      "source": [
        "arr.ndim #dimension"
      ],
      "metadata": {
        "colab": {
          "base_uri": "https://localhost:8080/"
        },
        "id": "ghFQrvxOfnWC",
        "outputId": "7d3f822d-1ff9-473e-ef85-4b6a6bf1e5af"
      },
      "execution_count": 55,
      "outputs": [
        {
          "output_type": "execute_result",
          "data": {
            "text/plain": [
              "2"
            ]
          },
          "metadata": {},
          "execution_count": 55
        }
      ]
    },
    {
      "cell_type": "code",
      "source": [
        "arr.shape"
      ],
      "metadata": {
        "colab": {
          "base_uri": "https://localhost:8080/"
        },
        "id": "_r2joxYnftya",
        "outputId": "85b3adba-541a-4e53-f3b1-66b1797c386c"
      },
      "execution_count": 56,
      "outputs": [
        {
          "output_type": "execute_result",
          "data": {
            "text/plain": [
              "(5, 5)"
            ]
          },
          "metadata": {},
          "execution_count": 56
        }
      ]
    },
    {
      "cell_type": "code",
      "source": [
        "arr.size #total elements"
      ],
      "metadata": {
        "id": "jYF0vwvAf_yY"
      },
      "execution_count": null,
      "outputs": []
    },
    {
      "cell_type": "code",
      "source": [
        "#generating random integers b/w -10 to 10 and we will generate 4 of those\n",
        "np.random.randint(-10,10,4)"
      ],
      "metadata": {
        "colab": {
          "base_uri": "https://localhost:8080/"
        },
        "id": "9pwKRv6PgL_N",
        "outputId": "fbbe0689-ddf3-4a5f-f39a-7324b82d2675"
      },
      "execution_count": 60,
      "outputs": [
        {
          "output_type": "execute_result",
          "data": {
            "text/plain": [
              "array([ 7, -8,  8,  2])"
            ]
          },
          "metadata": {},
          "execution_count": 60
        }
      ]
    },
    {
      "cell_type": "code",
      "source": [
        "np.random.rand(2,10,4)\n",
        "#3D array of 10 rows and 4 cols and 2 layers made"
      ],
      "metadata": {
        "colab": {
          "base_uri": "https://localhost:8080/"
        },
        "id": "mPNZ1mNohTQT",
        "outputId": "1b4d7b0e-3fe7-4192-eb32-ff90afbc984d"
      },
      "execution_count": 61,
      "outputs": [
        {
          "output_type": "execute_result",
          "data": {
            "text/plain": [
              "array([[[0.62465969, 0.69455312, 0.33034633, 0.62838542],\n",
              "        [0.22901855, 0.5630655 , 0.0245316 , 0.83046814],\n",
              "        [0.463344  , 0.22725262, 0.91971632, 0.09986412],\n",
              "        [0.51662022, 0.9825022 , 0.31843724, 0.32198077],\n",
              "        [0.87775823, 0.42063751, 0.91101038, 0.50279717],\n",
              "        [0.21640143, 0.88189926, 0.17539193, 0.66369657],\n",
              "        [0.57770896, 0.81832888, 0.33928942, 0.72102018],\n",
              "        [0.36536161, 0.97674955, 0.12801969, 0.45404916],\n",
              "        [0.15767547, 0.81332004, 0.83090278, 0.63218002],\n",
              "        [0.40854247, 0.50556602, 0.28442697, 0.32867873]],\n",
              "\n",
              "       [[0.63349396, 0.95673853, 0.51796791, 0.95956737],\n",
              "        [0.51497067, 0.68985685, 0.87156755, 0.08328273],\n",
              "        [0.31952653, 0.28364717, 0.91883894, 0.04511288],\n",
              "        [0.50261288, 0.15192881, 0.23957311, 0.08135831],\n",
              "        [0.23555414, 0.35580125, 0.58727044, 0.69134492],\n",
              "        [0.75234061, 0.17009754, 0.96067877, 0.13255435],\n",
              "        [0.74135952, 0.68339521, 0.67861021, 0.75331302],\n",
              "        [0.0938555 , 0.01453195, 0.30751545, 0.33751368],\n",
              "        [0.81884826, 0.94312689, 0.24120785, 0.48917947],\n",
              "        [0.329108  , 0.70515821, 0.5579325 , 0.77205847]]])"
            ]
          },
          "metadata": {},
          "execution_count": 61
        }
      ]
    },
    {
      "cell_type": "code",
      "source": [
        "arr+10 #adding 10 to original arr"
      ],
      "metadata": {
        "colab": {
          "base_uri": "https://localhost:8080/"
        },
        "id": "rU2RRloIhgRv",
        "outputId": "f2ddf92d-7506-40fc-f752-6a091ec5ba8f"
      },
      "execution_count": 62,
      "outputs": [
        {
          "output_type": "execute_result",
          "data": {
            "text/plain": [
              "array([[10.35820293, 10.84213269, 10.81891561, 10.69878061, 10.66345575],\n",
              "       [10.97347717, 10.45432185, 10.2347597 , 10.71784758, 10.03023978],\n",
              "       [10.51234942, 10.62386924, 10.16273396, 10.05208801, 10.46792003],\n",
              "       [10.81963803, 10.80364048, 10.97858111, 10.90395297, 10.32278301],\n",
              "       [10.03287447, 10.55011576, 10.56517123, 10.03178637, 10.77459376]])"
            ]
          },
          "metadata": {},
          "execution_count": 62
        }
      ]
    },
    {
      "cell_type": "code",
      "source": [
        "arr*10"
      ],
      "metadata": {
        "colab": {
          "base_uri": "https://localhost:8080/"
        },
        "id": "7kdr40UDhr7z",
        "outputId": "d475f7ab-9f31-4ef9-f359-66029375f519"
      },
      "execution_count": 64,
      "outputs": [
        {
          "output_type": "execute_result",
          "data": {
            "text/plain": [
              "array([[3.58202932, 8.42132687, 8.18915612, 6.98780609, 6.63455751],\n",
              "       [9.73477172, 4.5432185 , 2.347597  , 7.17847577, 0.30239775],\n",
              "       [5.12349417, 6.23869245, 1.62733961, 0.52088009, 4.67920029],\n",
              "       [8.19638029, 8.0364048 , 9.78581106, 9.03952966, 3.22783013],\n",
              "       [0.32874471, 5.50115761, 5.65171225, 0.31786369, 7.74593758]])"
            ]
          },
          "metadata": {},
          "execution_count": 64
        }
      ]
    },
    {
      "cell_type": "code",
      "source": [
        "arr/2"
      ],
      "metadata": {
        "colab": {
          "base_uri": "https://localhost:8080/"
        },
        "id": "tGblhelXh0Kp",
        "outputId": "a6e2d1a5-1219-4686-911e-6f04471c4668"
      },
      "execution_count": 65,
      "outputs": [
        {
          "output_type": "execute_result",
          "data": {
            "text/plain": [
              "array([[0.17910147, 0.42106634, 0.40945781, 0.3493903 , 0.33172788],\n",
              "       [0.48673859, 0.22716093, 0.11737985, 0.35892379, 0.01511989],\n",
              "       [0.25617471, 0.31193462, 0.08136698, 0.026044  , 0.23396001],\n",
              "       [0.40981901, 0.40182024, 0.48929055, 0.45197648, 0.16139151],\n",
              "       [0.01643724, 0.27505788, 0.28258561, 0.01589318, 0.38729688]])"
            ]
          },
          "metadata": {},
          "execution_count": 65
        }
      ]
    },
    {
      "cell_type": "code",
      "source": [
        "#applying exponential on original log can also be applied\n",
        "np.exp(arr)"
      ],
      "metadata": {
        "colab": {
          "base_uri": "https://localhost:8080/"
        },
        "id": "BlFknuqSh3ba",
        "outputId": "12bdf25d-68db-4b9e-b102-cdcdba573b94"
      },
      "execution_count": 66,
      "outputs": [
        {
          "output_type": "execute_result",
          "data": {
            "text/plain": [
              "array([[1.43075594, 2.32131233, 2.26803907, 2.01129865, 1.94149006],\n",
              "       [2.64713301, 1.57510486, 1.26460485, 2.05001596, 1.03070164],\n",
              "       [1.66920826, 1.86613462, 1.17672359, 1.05346845, 1.59666971],\n",
              "       [2.26967813, 2.23365773, 2.66067834, 2.46934508, 1.38096567],\n",
              "       [1.03342081, 1.73345367, 1.75974907, 1.03229695, 2.16971052]])"
            ]
          },
          "metadata": {},
          "execution_count": 66
        }
      ]
    },
    {
      "cell_type": "code",
      "source": [
        "np.sin(arr) #tan/cos/sin can also be applied"
      ],
      "metadata": {
        "colab": {
          "base_uri": "https://localhost:8080/"
        },
        "id": "JGj8ZodNiLgC",
        "outputId": "aa0c43f2-e101-4099-f9f0-c47dfe9f1c5a"
      },
      "execution_count": 67,
      "outputs": [
        {
          "output_type": "execute_result",
          "data": {
            "text/plain": [
              "array([[0.3505918 , 0.74606491, 0.73040561, 0.64328457, 0.6158432 ],\n",
              "       [0.82684637, 0.43885306, 0.23260928, 0.65776494, 0.03023517],\n",
              "       [0.49022634, 0.5841799 , 0.16201665, 0.05206446, 0.45103087],\n",
              "       [0.73089884, 0.71988768, 0.82970618, 0.78577799, 0.31720707],\n",
              "       [0.03286855, 0.52278591, 0.53556042, 0.03178102, 0.69942579]])"
            ]
          },
          "metadata": {},
          "execution_count": 67
        }
      ]
    },
    {
      "cell_type": "code",
      "source": [
        "#summing all the values within arr\n",
        "np.sum(arr)"
      ],
      "metadata": {
        "colab": {
          "base_uri": "https://localhost:8080/"
        },
        "id": "0fZ02iEwiawv",
        "outputId": "2701c7b7-dafa-47ae-9fd2-813bd279dadf"
      },
      "execution_count": 70,
      "outputs": [
        {
          "output_type": "execute_result",
          "data": {
            "text/plain": [
              "13.39423150636588"
            ]
          },
          "metadata": {},
          "execution_count": 70
        }
      ]
    },
    {
      "cell_type": "code",
      "source": [
        "#rounding off the sum to 2 deci places\n",
        "round(np.sum(arr),2)\n",
        "# round(np.sum(arr)) gives 13 as ans"
      ],
      "metadata": {
        "colab": {
          "base_uri": "https://localhost:8080/"
        },
        "id": "3fpanTGii-oD",
        "outputId": "a599fcc4-901f-4436-8d40-5485c086a851"
      },
      "execution_count": 75,
      "outputs": [
        {
          "output_type": "execute_result",
          "data": {
            "text/plain": [
              "13.39"
            ]
          },
          "metadata": {},
          "execution_count": 75
        }
      ]
    },
    {
      "cell_type": "code",
      "source": [
        "#summation of rows\n",
        "(np.sum(arr,axis=1)) #axis=0 for cols summation"
      ],
      "metadata": {
        "colab": {
          "base_uri": "https://localhost:8080/"
        },
        "id": "F75OQj-zjV72",
        "outputId": "3d5af8d5-cb0a-4022-d444-11a4cb42e6dd"
      },
      "execution_count": 79,
      "outputs": [
        {
          "output_type": "execute_result",
          "data": {
            "text/plain": [
              "array([3.38148759, 2.41064608, 1.81896066, 3.82859559, 1.95454158])"
            ]
          },
          "metadata": {},
          "execution_count": 79
        }
      ]
    },
    {
      "cell_type": "code",
      "source": [
        "#finding min within arr\n",
        "np.min(arr)"
      ],
      "metadata": {
        "colab": {
          "base_uri": "https://localhost:8080/"
        },
        "id": "ZED47fjUj96K",
        "outputId": "31b2b9ae-ffbe-4316-850c-b7c6b797aa43"
      },
      "execution_count": 80,
      "outputs": [
        {
          "output_type": "execute_result",
          "data": {
            "text/plain": [
              "0.030239775279961467"
            ]
          },
          "metadata": {},
          "execution_count": 80
        }
      ]
    },
    {
      "cell_type": "code",
      "source": [
        "np.max(arr)\n",
        "np.max(arr,axis=1) #max in each row"
      ],
      "metadata": {
        "colab": {
          "base_uri": "https://localhost:8080/"
        },
        "id": "P00EoesYkNgr",
        "outputId": "33e821d7-595a-4e99-88b2-b889cf428cdb"
      },
      "execution_count": 85,
      "outputs": [
        {
          "output_type": "execute_result",
          "data": {
            "text/plain": [
              "array([0.84213269, 0.97347717, 0.62386924, 0.97858111, 0.77459376])"
            ]
          },
          "metadata": {},
          "execution_count": 85
        }
      ]
    },
    {
      "cell_type": "code",
      "source": [
        "np.min(arr,axis=0) #min in each col"
      ],
      "metadata": {
        "colab": {
          "base_uri": "https://localhost:8080/"
        },
        "id": "5YIyn0QvlBFS",
        "outputId": "62e99bdc-3329-4944-b336-509cf82b6ec9"
      },
      "execution_count": 87,
      "outputs": [
        {
          "output_type": "execute_result",
          "data": {
            "text/plain": [
              "array([0.03287447, 0.45432185, 0.16273396, 0.03178637, 0.03023978])"
            ]
          },
          "metadata": {},
          "execution_count": 87
        }
      ]
    },
    {
      "cell_type": "code",
      "source": [
        "print(arr)"
      ],
      "metadata": {
        "colab": {
          "base_uri": "https://localhost:8080/"
        },
        "id": "igiaq6GTk5zk",
        "outputId": "9e9de856-9a02-4ed2-e642-008d6bec5da5"
      },
      "execution_count": 86,
      "outputs": [
        {
          "output_type": "stream",
          "name": "stdout",
          "text": [
            "[[0.35820293 0.84213269 0.81891561 0.69878061 0.66345575]\n",
            " [0.97347717 0.45432185 0.2347597  0.71784758 0.03023978]\n",
            " [0.51234942 0.62386924 0.16273396 0.05208801 0.46792003]\n",
            " [0.81963803 0.80364048 0.97858111 0.90395297 0.32278301]\n",
            " [0.03287447 0.55011576 0.56517123 0.03178637 0.77459376]]\n"
          ]
        }
      ]
    },
    {
      "cell_type": "code",
      "source": [
        "np.mean(arr)"
      ],
      "metadata": {
        "colab": {
          "base_uri": "https://localhost:8080/"
        },
        "id": "a4LHhkPpkPnt",
        "outputId": "72c3a986-9efd-409e-8833-13a37b2037c5"
      },
      "execution_count": 84,
      "outputs": [
        {
          "output_type": "execute_result",
          "data": {
            "text/plain": [
              "0.5357692602546352"
            ]
          },
          "metadata": {},
          "execution_count": 84
        }
      ]
    },
    {
      "cell_type": "code",
      "source": [
        "np.mean(arr,axis=0) #mean of each row"
      ],
      "metadata": {
        "colab": {
          "base_uri": "https://localhost:8080/"
        },
        "id": "SXa4OuRVlI7n",
        "outputId": "6247806f-cf5a-40b5-d1b4-3af22a1fe516"
      },
      "execution_count": 88,
      "outputs": [
        {
          "output_type": "execute_result",
          "data": {
            "text/plain": [
              "array([0.5393084 , 0.654816  , 0.55203232, 0.48089111, 0.45179847])"
            ]
          },
          "metadata": {},
          "execution_count": 88
        }
      ]
    },
    {
      "cell_type": "code",
      "source": [
        "np.median(arr) #same as above for finding median of each row or col"
      ],
      "metadata": {
        "colab": {
          "base_uri": "https://localhost:8080/"
        },
        "id": "w-eV7EU6lPzV",
        "outputId": "dbdfba68-7a66-482a-a2b5-6a2cefc9cee2"
      },
      "execution_count": 89,
      "outputs": [
        {
          "output_type": "execute_result",
          "data": {
            "text/plain": [
              "0.5651712254544207"
            ]
          },
          "metadata": {},
          "execution_count": 89
        }
      ]
    },
    {
      "cell_type": "code",
      "source": [
        "#standard deviation for whole arr\n",
        "np.std(arr)"
      ],
      "metadata": {
        "colab": {
          "base_uri": "https://localhost:8080/"
        },
        "id": "Qxo9Df1hlW32",
        "outputId": "a50326c0-2442-4784-d600-0f09bbd88986"
      },
      "execution_count": 90,
      "outputs": [
        {
          "output_type": "execute_result",
          "data": {
            "text/plain": [
              "0.3037331077382191"
            ]
          },
          "metadata": {},
          "execution_count": 90
        }
      ]
    },
    {
      "cell_type": "code",
      "source": [
        "#variance for whole arr\n",
        "round(np.var(arr),2) #variance is square of std"
      ],
      "metadata": {
        "colab": {
          "base_uri": "https://localhost:8080/"
        },
        "id": "6I7BMDqzlsfT",
        "outputId": "29e19241-f285-4582-ae1d-ad6f5850b2eb"
      },
      "execution_count": 94,
      "outputs": [
        {
          "output_type": "execute_result",
          "data": {
            "text/plain": [
              "0.09"
            ]
          },
          "metadata": {},
          "execution_count": 94
        }
      ]
    },
    {
      "cell_type": "code",
      "source": [
        "#slicing data\n",
        "arr[0:,2:4] #zeroth row 2rd col and upto 4th col(means till 3 col)"
      ],
      "metadata": {
        "colab": {
          "base_uri": "https://localhost:8080/"
        },
        "id": "SXW9TzNXmaDB",
        "outputId": "349e3a8f-f13e-4dd7-dc67-bd1bf1671250"
      },
      "execution_count": 97,
      "outputs": [
        {
          "output_type": "execute_result",
          "data": {
            "text/plain": [
              "array([[0.81891561, 0.69878061],\n",
              "       [0.2347597 , 0.71784758],\n",
              "       [0.16273396, 0.05208801],\n",
              "       [0.97858111, 0.90395297],\n",
              "       [0.56517123, 0.03178637]])"
            ]
          },
          "metadata": {},
          "execution_count": 97
        }
      ]
    },
    {
      "cell_type": "code",
      "source": [
        "#sorting row wise\n",
        "np.sort(arr,axis=1)"
      ],
      "metadata": {
        "colab": {
          "base_uri": "https://localhost:8080/"
        },
        "id": "wXtn5yjFnZPC",
        "outputId": "a14c62fd-7342-4392-b076-e42323ad543d"
      },
      "execution_count": 98,
      "outputs": [
        {
          "output_type": "execute_result",
          "data": {
            "text/plain": [
              "array([[0.35820293, 0.66345575, 0.69878061, 0.81891561, 0.84213269],\n",
              "       [0.03023978, 0.2347597 , 0.45432185, 0.71784758, 0.97347717],\n",
              "       [0.05208801, 0.16273396, 0.46792003, 0.51234942, 0.62386924],\n",
              "       [0.32278301, 0.80364048, 0.81963803, 0.90395297, 0.97858111],\n",
              "       [0.03178637, 0.03287447, 0.55011576, 0.56517123, 0.77459376]])"
            ]
          },
          "metadata": {},
          "execution_count": 98
        }
      ]
    },
    {
      "cell_type": "code",
      "source": [
        "#sorting col wise\n",
        "np.sort(arr,axis=0)"
      ],
      "metadata": {
        "colab": {
          "base_uri": "https://localhost:8080/"
        },
        "id": "bcEYbggnpFYH",
        "outputId": "aaf4aeac-a479-4c49-fef3-4762e0bc696d"
      },
      "execution_count": 99,
      "outputs": [
        {
          "output_type": "execute_result",
          "data": {
            "text/plain": [
              "array([[0.03287447, 0.45432185, 0.16273396, 0.03178637, 0.03023978],\n",
              "       [0.35820293, 0.55011576, 0.2347597 , 0.05208801, 0.32278301],\n",
              "       [0.51234942, 0.62386924, 0.56517123, 0.69878061, 0.46792003],\n",
              "       [0.81963803, 0.80364048, 0.81891561, 0.71784758, 0.66345575],\n",
              "       [0.97347717, 0.84213269, 0.97858111, 0.90395297, 0.77459376]])"
            ]
          },
          "metadata": {},
          "execution_count": 99
        }
      ]
    },
    {
      "cell_type": "code",
      "source": [
        "arr"
      ],
      "metadata": {
        "colab": {
          "base_uri": "https://localhost:8080/"
        },
        "id": "Hy23PgP6pbIG",
        "outputId": "401e9d2f-07bc-4f9f-ac13-dbcc435daec7"
      },
      "execution_count": 100,
      "outputs": [
        {
          "output_type": "execute_result",
          "data": {
            "text/plain": [
              "array([[0.35820293, 0.84213269, 0.81891561, 0.69878061, 0.66345575],\n",
              "       [0.97347717, 0.45432185, 0.2347597 , 0.71784758, 0.03023978],\n",
              "       [0.51234942, 0.62386924, 0.16273396, 0.05208801, 0.46792003],\n",
              "       [0.81963803, 0.80364048, 0.97858111, 0.90395297, 0.32278301],\n",
              "       [0.03287447, 0.55011576, 0.56517123, 0.03178637, 0.77459376]])"
            ]
          },
          "metadata": {},
          "execution_count": 100
        }
      ]
    },
    {
      "cell_type": "code",
      "source": [
        "#taking transpose\n",
        "arr.T"
      ],
      "metadata": {
        "colab": {
          "base_uri": "https://localhost:8080/"
        },
        "id": "0GuNtZbepl8k",
        "outputId": "ef674070-e306-4b3f-961f-0101cdbb3bc1"
      },
      "execution_count": 101,
      "outputs": [
        {
          "output_type": "execute_result",
          "data": {
            "text/plain": [
              "array([[0.35820293, 0.97347717, 0.51234942, 0.81963803, 0.03287447],\n",
              "       [0.84213269, 0.45432185, 0.62386924, 0.80364048, 0.55011576],\n",
              "       [0.81891561, 0.2347597 , 0.16273396, 0.97858111, 0.56517123],\n",
              "       [0.69878061, 0.71784758, 0.05208801, 0.90395297, 0.03178637],\n",
              "       [0.66345575, 0.03023978, 0.46792003, 0.32278301, 0.77459376]])"
            ]
          },
          "metadata": {},
          "execution_count": 101
        }
      ]
    },
    {
      "cell_type": "code",
      "source": [
        "#flatten down values into single array\n",
        "arr.flatten()"
      ],
      "metadata": {
        "colab": {
          "base_uri": "https://localhost:8080/"
        },
        "id": "pZORSr2Pp8MX",
        "outputId": "8d1544e0-9404-4515-ae13-ce4746151e61"
      },
      "execution_count": 102,
      "outputs": [
        {
          "output_type": "execute_result",
          "data": {
            "text/plain": [
              "array([0.35820293, 0.84213269, 0.81891561, 0.69878061, 0.66345575,\n",
              "       0.97347717, 0.45432185, 0.2347597 , 0.71784758, 0.03023978,\n",
              "       0.51234942, 0.62386924, 0.16273396, 0.05208801, 0.46792003,\n",
              "       0.81963803, 0.80364048, 0.97858111, 0.90395297, 0.32278301,\n",
              "       0.03287447, 0.55011576, 0.56517123, 0.03178637, 0.77459376])"
            ]
          },
          "metadata": {},
          "execution_count": 102
        }
      ]
    },
    {
      "cell_type": "code",
      "source": [
        "arr3=np.array([1,3,5])\n",
        "arr3"
      ],
      "metadata": {
        "colab": {
          "base_uri": "https://localhost:8080/"
        },
        "id": "CUZUzxdfqIqh",
        "outputId": "4c63fbf0-20d8-4366-cc92-18fc6cc549b7"
      },
      "execution_count": 103,
      "outputs": [
        {
          "output_type": "execute_result",
          "data": {
            "text/plain": [
              "array([1, 3, 5])"
            ]
          },
          "metadata": {},
          "execution_count": 103
        }
      ]
    },
    {
      "cell_type": "code",
      "source": [
        "np.append(arr3,7)"
      ],
      "metadata": {
        "colab": {
          "base_uri": "https://localhost:8080/"
        },
        "id": "bnLYpRMWqb7P",
        "outputId": "740ff881-ee0b-435a-8d03-b22646863ddc"
      },
      "execution_count": 105,
      "outputs": [
        {
          "output_type": "execute_result",
          "data": {
            "text/plain": [
              "array([1, 3, 5, 7])"
            ]
          },
          "metadata": {},
          "execution_count": 105
        }
      ]
    },
    {
      "cell_type": "code",
      "source": [
        "np.append(arr3,[7,9,11])"
      ],
      "metadata": {
        "colab": {
          "base_uri": "https://localhost:8080/"
        },
        "id": "noY2Jq5EqiN6",
        "outputId": "0eb10d96-ff97-4f7b-ba86-1f10e92be7f2"
      },
      "execution_count": 107,
      "outputs": [
        {
          "output_type": "execute_result",
          "data": {
            "text/plain": [
              "array([ 1,  3,  5,  7,  9, 11])"
            ]
          },
          "metadata": {},
          "execution_count": 107
        }
      ]
    },
    {
      "cell_type": "code",
      "source": [
        "#inserting at beginning or anywhere\n",
        "np.insert(arr3,2,[1,1,1])"
      ],
      "metadata": {
        "colab": {
          "base_uri": "https://localhost:8080/"
        },
        "id": "1Y5EDq7ZqsmB",
        "outputId": "3b9e2f40-3265-43a0-8017-61c2f5ec4913"
      },
      "execution_count": 111,
      "outputs": [
        {
          "output_type": "execute_result",
          "data": {
            "text/plain": [
              "array([1, 3, 1, 1, 1, 5])"
            ]
          },
          "metadata": {},
          "execution_count": 111
        }
      ]
    },
    {
      "cell_type": "code",
      "source": [
        "arr3"
      ],
      "metadata": {
        "colab": {
          "base_uri": "https://localhost:8080/"
        },
        "id": "A9tXKzvnrMUp",
        "outputId": "41d709e0-d368-4559-87dd-463e9f7ce894"
      },
      "execution_count": 116,
      "outputs": [
        {
          "output_type": "execute_result",
          "data": {
            "text/plain": [
              "array([1, 3, 5])"
            ]
          },
          "metadata": {},
          "execution_count": 116
        }
      ]
    },
    {
      "cell_type": "code",
      "source": [
        "arrN=np.delete(arr3,0)\n",
        "arrN"
      ],
      "metadata": {
        "colab": {
          "base_uri": "https://localhost:8080/"
        },
        "id": "H_lFEtysrp_V",
        "outputId": "525204da-456c-4da0-cdd6-41392b7fcecd"
      },
      "execution_count": 117,
      "outputs": [
        {
          "output_type": "execute_result",
          "data": {
            "text/plain": [
              "array([3, 5])"
            ]
          },
          "metadata": {},
          "execution_count": 117
        }
      ]
    },
    {
      "cell_type": "code",
      "source": [
        "arrw=np.delete(arr3,[0,1])\n",
        "arrw"
      ],
      "metadata": {
        "colab": {
          "base_uri": "https://localhost:8080/"
        },
        "id": "15AjuJXbr0kz",
        "outputId": "3efc427b-afdc-41a2-fe44-0ae45294aa52"
      },
      "execution_count": 120,
      "outputs": [
        {
          "output_type": "execute_result",
          "data": {
            "text/plain": [
              "array([5])"
            ]
          },
          "metadata": {},
          "execution_count": 120
        }
      ]
    },
    {
      "cell_type": "code",
      "source": [
        "#concatenating arrays\n",
        "arr1=np.array([[1,2,3,4],[5,6,7,8]])\n",
        "arr2=np.array([[10,20,30,40],[50,60,70,80]])\n",
        "# merge=np.concatenate((arr1,arr2))\n",
        "merge=np.concatenate((arr1,arr2),axis=1)#row wise\n",
        "merge"
      ],
      "metadata": {
        "colab": {
          "base_uri": "https://localhost:8080/"
        },
        "id": "OyhjbrhKukFh",
        "outputId": "b3956826-7a9b-4f74-ddb8-45343f0f1f64"
      },
      "execution_count": 132,
      "outputs": [
        {
          "output_type": "execute_result",
          "data": {
            "text/plain": [
              "array([[ 1,  2,  3,  4],\n",
              "       [ 5,  6,  7,  8],\n",
              "       [10, 20, 30, 40],\n",
              "       [50, 60, 70, 80]])"
            ]
          },
          "metadata": {},
          "execution_count": 132
        }
      ]
    },
    {
      "cell_type": "code",
      "source": [
        "merge=np.concatenate((arr1,arr2),axis=0)#col wise\n",
        "merge"
      ],
      "metadata": {
        "colab": {
          "base_uri": "https://localhost:8080/"
        },
        "id": "0OIzc_7ExMul",
        "outputId": "038deff5-7b00-49dd-cad5-26ea26a30947"
      },
      "execution_count": 133,
      "outputs": [
        {
          "output_type": "execute_result",
          "data": {
            "text/plain": [
              "array([[ 1,  2,  3,  4],\n",
              "       [ 5,  6,  7,  8],\n",
              "       [10, 20, 30, 40],\n",
              "       [50, 60, 70, 80]])"
            ]
          },
          "metadata": {},
          "execution_count": 133
        }
      ]
    },
    {
      "cell_type": "code",
      "source": [
        "catV=np.vstack((arr1,arr2)) #no need of axis works for vertical like axis=0\n",
        "catV\n",
        "#hstack for row wise (axis=1)"
      ],
      "metadata": {
        "colab": {
          "base_uri": "https://localhost:8080/"
        },
        "id": "AAiYgEttwfRU",
        "outputId": "da41aad7-78cb-489b-fc22-d6b53b59ef0f"
      },
      "execution_count": 131,
      "outputs": [
        {
          "output_type": "execute_result",
          "data": {
            "text/plain": [
              "array([[ 1,  2,  3,  4],\n",
              "       [ 5,  6,  7,  8],\n",
              "       [10, 20, 30, 40],\n",
              "       [50, 60, 70, 80]])"
            ]
          },
          "metadata": {},
          "execution_count": 131
        }
      ]
    },
    {
      "cell_type": "code",
      "source": [
        "#identifying unique values\n",
        "arrU=np.array([1,2,2,1,1,4,4,2,4,6,4])\n",
        "np.unique(arrU)"
      ],
      "metadata": {
        "colab": {
          "base_uri": "https://localhost:8080/"
        },
        "id": "NjuXN8xPxS4s",
        "outputId": "53a5ae51-cda7-4afb-d3e1-7e8868d765f0"
      },
      "execution_count": 134,
      "outputs": [
        {
          "output_type": "execute_result",
          "data": {
            "text/plain": [
              "array([1, 2, 4, 6])"
            ]
          },
          "metadata": {},
          "execution_count": 134
        }
      ]
    },
    {
      "cell_type": "code",
      "source": [
        "#how many unique values\n",
        "uniques, counts=np.unique(arrU,return_counts=True)\n",
        "print(uniques) #displays unique value up\n",
        "print(counts)  #displays count below"
      ],
      "metadata": {
        "colab": {
          "base_uri": "https://localhost:8080/"
        },
        "id": "2unLpAGRygT9",
        "outputId": "20f5addd-a69f-4872-c29e-e437c11cced1"
      },
      "execution_count": 136,
      "outputs": [
        {
          "output_type": "stream",
          "name": "stdout",
          "text": [
            "[1 2 4 6]\n",
            "[3 3 4 1]\n"
          ]
        }
      ]
    },
    {
      "cell_type": "code",
      "source": [
        "#intersection/common\n",
        "arr1=np.array([1,2,3,4])\n",
        "arr2=np.array([1,6,7,8,3])\n",
        "np.intersect1d(arr1,arr2)"
      ],
      "metadata": {
        "colab": {
          "base_uri": "https://localhost:8080/"
        },
        "id": "A6qaW6eXzAO3",
        "outputId": "e02328ea-6a6b-43e1-a505-67be5e8b366f"
      },
      "execution_count": 137,
      "outputs": [
        {
          "output_type": "execute_result",
          "data": {
            "text/plain": [
              "array([1, 3])"
            ]
          },
          "metadata": {},
          "execution_count": 137
        }
      ]
    },
    {
      "cell_type": "code",
      "source": [
        "#UNION\n",
        "arr1=np.array([1,2,3,4])\n",
        "arr2=np.array([1,6,7,8,3])\n",
        "np.union1d(arr1,arr2)"
      ],
      "metadata": {
        "colab": {
          "base_uri": "https://localhost:8080/"
        },
        "id": "agBJaOjbzbB3",
        "outputId": "2ad2437a-f9be-452b-b09e-fe4be27226e3"
      },
      "execution_count": 138,
      "outputs": [
        {
          "output_type": "execute_result",
          "data": {
            "text/plain": [
              "array([1, 2, 3, 4, 6, 7, 8])"
            ]
          },
          "metadata": {},
          "execution_count": 138
        }
      ]
    },
    {
      "cell_type": "code",
      "source": [
        "#SET DIFFERENCE\n",
        "arr1=np.array([1,2,3,4])\n",
        "arr2=np.array([1,6,7,8,3])\n",
        "np.setdiff1d(arr1,arr2)\n",
        "#values in arr1-arr2"
      ],
      "metadata": {
        "colab": {
          "base_uri": "https://localhost:8080/"
        },
        "id": "73MKVBuazj9O",
        "outputId": "eaa5e298-74c5-451d-f6c6-0ccfeaa6d4c2"
      },
      "execution_count": 139,
      "outputs": [
        {
          "output_type": "execute_result",
          "data": {
            "text/plain": [
              "array([2, 4])"
            ]
          },
          "metadata": {},
          "execution_count": 139
        }
      ]
    },
    {
      "cell_type": "code",
      "source": [
        "arr1=np.array([1,2,3,4])\n",
        "arr2=np.array([1,6,7,8,3])\n",
        "np.setxor1d(arr1,arr2)"
      ],
      "metadata": {
        "colab": {
          "base_uri": "https://localhost:8080/"
        },
        "id": "WS-dUMl4z7G_",
        "outputId": "1b052806-2c92-4c91-902e-008d8e56e2f5"
      },
      "execution_count": 140,
      "outputs": [
        {
          "output_type": "execute_result",
          "data": {
            "text/plain": [
              "array([2, 4, 6, 7, 8])"
            ]
          },
          "metadata": {},
          "execution_count": 140
        }
      ]
    }
  ]
}